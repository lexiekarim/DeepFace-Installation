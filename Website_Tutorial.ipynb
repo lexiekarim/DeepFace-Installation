{
 "cells": [
  {
   "cell_type": "code",
   "execution_count": 4,
   "metadata": {},
   "outputs": [
    {
     "name": "stdout",
     "output_type": "stream",
     "text": [
      "Defaulting to user installation because normal site-packages is not writeableNote: you may need to restart the kernel to use updated packages.\n",
      "\n",
      "Requirement already satisfied: deepface in c:\\users\\hcps-karimam\\onedrive - henrico county public schools\\documents\\12th grade\\1. capstone\\mp2\\deepface-master (0.0.94)\n",
      "Requirement already satisfied: requests>=2.27.1 in c:\\users\\hcps-karimam\\appdata\\roaming\\python\\python39\\site-packages (from deepface) (2.32.3)\n",
      "Requirement already satisfied: numpy>=1.14.0 in c:\\users\\hcps-karimam\\appdata\\roaming\\python\\python39\\site-packages (from deepface) (2.0.2)\n",
      "Requirement already satisfied: pandas>=0.23.4 in c:\\users\\hcps-karimam\\appdata\\roaming\\python\\python39\\site-packages (from deepface) (2.2.3)\n",
      "Requirement already satisfied: gdown>=3.10.1 in c:\\users\\hcps-karimam\\appdata\\roaming\\python\\python39\\site-packages (from deepface) (5.2.0)\n",
      "Requirement already satisfied: tqdm>=4.30.0 in c:\\users\\hcps-karimam\\appdata\\roaming\\python\\python39\\site-packages (from deepface) (4.67.1)\n",
      "Requirement already satisfied: Pillow>=5.2.0 in c:\\users\\hcps-karimam\\appdata\\roaming\\python\\python39\\site-packages (from deepface) (11.0.0)\n",
      "Requirement already satisfied: opencv-python>=4.5.5.64 in c:\\users\\hcps-karimam\\appdata\\roaming\\python\\python39\\site-packages (from deepface) (4.10.0.84)\n",
      "Requirement already satisfied: tensorflow>=1.9.0 in c:\\users\\hcps-karimam\\appdata\\roaming\\python\\python39\\site-packages (from deepface) (2.18.0)\n",
      "Requirement already satisfied: keras>=2.2.0 in c:\\users\\hcps-karimam\\appdata\\roaming\\python\\python39\\site-packages (from deepface) (3.7.0)\n",
      "Requirement already satisfied: Flask>=1.1.2 in c:\\users\\hcps-karimam\\appdata\\roaming\\python\\python39\\site-packages (from deepface) (3.1.0)\n",
      "Requirement already satisfied: flask_cors>=4.0.1 in c:\\users\\hcps-karimam\\appdata\\roaming\\python\\python39\\site-packages (from deepface) (5.0.0)\n",
      "Requirement already satisfied: mtcnn>=0.1.0 in c:\\users\\hcps-karimam\\appdata\\roaming\\python\\python39\\site-packages (from deepface) (0.1.1)\n",
      "Requirement already satisfied: retina-face>=0.0.14 in c:\\users\\hcps-karimam\\appdata\\roaming\\python\\python39\\site-packages (from deepface) (0.0.17)\n",
      "Requirement already satisfied: fire>=0.4.0 in c:\\users\\hcps-karimam\\appdata\\roaming\\python\\python39\\site-packages (from deepface) (0.7.0)\n",
      "Requirement already satisfied: gunicorn>=20.1.0 in c:\\users\\hcps-karimam\\appdata\\roaming\\python\\python39\\site-packages (from deepface) (23.0.0)\n",
      "Requirement already satisfied: termcolor in c:\\users\\hcps-karimam\\appdata\\roaming\\python\\python39\\site-packages (from fire>=0.4.0->deepface) (2.5.0)\n",
      "Requirement already satisfied: Werkzeug>=3.1 in c:\\users\\hcps-karimam\\appdata\\roaming\\python\\python39\\site-packages (from Flask>=1.1.2->deepface) (3.1.3)\n",
      "Requirement already satisfied: Jinja2>=3.1.2 in c:\\users\\hcps-karimam\\appdata\\roaming\\python\\python39\\site-packages (from Flask>=1.1.2->deepface) (3.1.4)\n",
      "Requirement already satisfied: itsdangerous>=2.2 in c:\\users\\hcps-karimam\\appdata\\roaming\\python\\python39\\site-packages (from Flask>=1.1.2->deepface) (2.2.0)\n",
      "Requirement already satisfied: click>=8.1.3 in c:\\users\\hcps-karimam\\appdata\\roaming\\python\\python39\\site-packages (from Flask>=1.1.2->deepface) (8.1.7)\n",
      "Requirement already satisfied: blinker>=1.9 in c:\\users\\hcps-karimam\\appdata\\roaming\\python\\python39\\site-packages (from Flask>=1.1.2->deepface) (1.9.0)\n",
      "Requirement already satisfied: importlib-metadata>=3.6 in c:\\users\\hcps-karimam\\appdata\\roaming\\python\\python39\\site-packages (from Flask>=1.1.2->deepface) (8.5.0)\n",
      "Requirement already satisfied: beautifulsoup4 in c:\\users\\hcps-karimam\\appdata\\roaming\\python\\python39\\site-packages (from gdown>=3.10.1->deepface) (4.12.3)\n",
      "Requirement already satisfied: filelock in c:\\users\\hcps-karimam\\appdata\\roaming\\python\\python39\\site-packages (from gdown>=3.10.1->deepface) (3.16.1)\n",
      "Requirement already satisfied: packaging in c:\\users\\hcps-karimam\\appdata\\roaming\\python\\python39\\site-packages (from gunicorn>=20.1.0->deepface) (24.1)\n",
      "Requirement already satisfied: absl-py in c:\\users\\hcps-karimam\\appdata\\roaming\\python\\python39\\site-packages (from keras>=2.2.0->deepface) (2.1.0)\n",
      "Requirement already satisfied: rich in c:\\users\\hcps-karimam\\appdata\\roaming\\python\\python39\\site-packages (from keras>=2.2.0->deepface) (13.9.4)\n",
      "Requirement already satisfied: namex in c:\\users\\hcps-karimam\\appdata\\roaming\\python\\python39\\site-packages (from keras>=2.2.0->deepface) (0.0.8)\n",
      "Requirement already satisfied: h5py in c:\\users\\hcps-karimam\\appdata\\roaming\\python\\python39\\site-packages (from keras>=2.2.0->deepface) (3.12.1)\n",
      "Requirement already satisfied: optree in c:\\users\\hcps-karimam\\appdata\\roaming\\python\\python39\\site-packages (from keras>=2.2.0->deepface) (0.13.1)\n",
      "Requirement already satisfied: ml-dtypes in c:\\users\\hcps-karimam\\appdata\\roaming\\python\\python39\\site-packages (from keras>=2.2.0->deepface) (0.4.1)\n",
      "Requirement already satisfied: python-dateutil>=2.8.2 in c:\\users\\hcps-karimam\\appdata\\roaming\\python\\python39\\site-packages (from pandas>=0.23.4->deepface) (2.9.0.post0)\n",
      "Requirement already satisfied: pytz>=2020.1 in c:\\users\\hcps-karimam\\appdata\\roaming\\python\\python39\\site-packages (from pandas>=0.23.4->deepface) (2024.2)\n",
      "Requirement already satisfied: tzdata>=2022.7 in c:\\users\\hcps-karimam\\appdata\\roaming\\python\\python39\\site-packages (from pandas>=0.23.4->deepface) (2024.1)\n",
      "Requirement already satisfied: charset-normalizer<4,>=2 in c:\\users\\hcps-karimam\\appdata\\roaming\\python\\python39\\site-packages (from requests>=2.27.1->deepface) (3.4.0)\n",
      "Requirement already satisfied: idna<4,>=2.5 in c:\\users\\hcps-karimam\\appdata\\roaming\\python\\python39\\site-packages (from requests>=2.27.1->deepface) (3.10)\n",
      "Requirement already satisfied: urllib3<3,>=1.21.1 in c:\\users\\hcps-karimam\\appdata\\roaming\\python\\python39\\site-packages (from requests>=2.27.1->deepface) (2.2.3)\n",
      "Requirement already satisfied: certifi>=2017.4.17 in c:\\users\\hcps-karimam\\appdata\\roaming\\python\\python39\\site-packages (from requests>=2.27.1->deepface) (2024.8.30)\n",
      "Requirement already satisfied: tensorflow-intel==2.18.0 in c:\\users\\hcps-karimam\\appdata\\roaming\\python\\python39\\site-packages (from tensorflow>=1.9.0->deepface) (2.18.0)\n",
      "Requirement already satisfied: astunparse>=1.6.0 in c:\\users\\hcps-karimam\\appdata\\roaming\\python\\python39\\site-packages (from tensorflow-intel==2.18.0->tensorflow>=1.9.0->deepface) (1.6.3)\n",
      "Requirement already satisfied: flatbuffers>=24.3.25 in c:\\users\\hcps-karimam\\appdata\\roaming\\python\\python39\\site-packages (from tensorflow-intel==2.18.0->tensorflow>=1.9.0->deepface) (24.3.25)\n",
      "Requirement already satisfied: gast!=0.5.0,!=0.5.1,!=0.5.2,>=0.2.1 in c:\\users\\hcps-karimam\\appdata\\roaming\\python\\python39\\site-packages (from tensorflow-intel==2.18.0->tensorflow>=1.9.0->deepface) (0.6.0)\n",
      "Requirement already satisfied: google-pasta>=0.1.1 in c:\\users\\hcps-karimam\\appdata\\roaming\\python\\python39\\site-packages (from tensorflow-intel==2.18.0->tensorflow>=1.9.0->deepface) (0.2.0)\n",
      "Requirement already satisfied: libclang>=13.0.0 in c:\\users\\hcps-karimam\\appdata\\roaming\\python\\python39\\site-packages (from tensorflow-intel==2.18.0->tensorflow>=1.9.0->deepface) (18.1.1)\n",
      "Requirement already satisfied: opt-einsum>=2.3.2 in c:\\users\\hcps-karimam\\appdata\\roaming\\python\\python39\\site-packages (from tensorflow-intel==2.18.0->tensorflow>=1.9.0->deepface) (3.4.0)\n",
      "Requirement already satisfied: protobuf!=4.21.0,!=4.21.1,!=4.21.2,!=4.21.3,!=4.21.4,!=4.21.5,<6.0.0dev,>=3.20.3 in c:\\users\\hcps-karimam\\appdata\\roaming\\python\\python39\\site-packages (from tensorflow-intel==2.18.0->tensorflow>=1.9.0->deepface) (5.29.1)\n",
      "Requirement already satisfied: setuptools in c:\\program files\\python39\\lib\\site-packages (from tensorflow-intel==2.18.0->tensorflow>=1.9.0->deepface) (56.0.0)\n",
      "Requirement already satisfied: six>=1.12.0 in c:\\users\\hcps-karimam\\appdata\\roaming\\python\\python39\\site-packages (from tensorflow-intel==2.18.0->tensorflow>=1.9.0->deepface) (1.16.0)\n",
      "Requirement already satisfied: typing-extensions>=3.6.6 in c:\\users\\hcps-karimam\\appdata\\roaming\\python\\python39\\site-packages (from tensorflow-intel==2.18.0->tensorflow>=1.9.0->deepface) (4.12.2)\n",
      "Requirement already satisfied: wrapt>=1.11.0 in c:\\users\\hcps-karimam\\appdata\\roaming\\python\\python39\\site-packages (from tensorflow-intel==2.18.0->tensorflow>=1.9.0->deepface) (1.17.0)\n",
      "Requirement already satisfied: grpcio<2.0,>=1.24.3 in c:\\users\\hcps-karimam\\appdata\\roaming\\python\\python39\\site-packages (from tensorflow-intel==2.18.0->tensorflow>=1.9.0->deepface) (1.68.1)\n",
      "Requirement already satisfied: tensorboard<2.19,>=2.18 in c:\\users\\hcps-karimam\\appdata\\roaming\\python\\python39\\site-packages (from tensorflow-intel==2.18.0->tensorflow>=1.9.0->deepface) (2.18.0)\n",
      "Requirement already satisfied: tensorflow-io-gcs-filesystem>=0.23.1 in c:\\users\\hcps-karimam\\appdata\\roaming\\python\\python39\\site-packages (from tensorflow-intel==2.18.0->tensorflow>=1.9.0->deepface) (0.31.0)\n",
      "Requirement already satisfied: colorama in c:\\users\\hcps-karimam\\appdata\\roaming\\python\\python39\\site-packages (from tqdm>=4.30.0->deepface) (0.4.6)\n",
      "Requirement already satisfied: zipp>=3.20 in c:\\users\\hcps-karimam\\appdata\\roaming\\python\\python39\\site-packages (from importlib-metadata>=3.6->Flask>=1.1.2->deepface) (3.20.2)\n",
      "Requirement already satisfied: MarkupSafe>=2.0 in c:\\users\\hcps-karimam\\appdata\\roaming\\python\\python39\\site-packages (from Jinja2>=3.1.2->Flask>=1.1.2->deepface) (3.0.2)\n",
      "Requirement already satisfied: soupsieve>1.2 in c:\\users\\hcps-karimam\\appdata\\roaming\\python\\python39\\site-packages (from beautifulsoup4->gdown>=3.10.1->deepface) (2.6)\n",
      "Requirement already satisfied: PySocks!=1.5.7,>=1.5.6 in c:\\users\\hcps-karimam\\appdata\\roaming\\python\\python39\\site-packages (from requests[socks]->gdown>=3.10.1->deepface) (1.7.1)\n",
      "Requirement already satisfied: markdown-it-py>=2.2.0 in c:\\users\\hcps-karimam\\appdata\\roaming\\python\\python39\\site-packages (from rich->keras>=2.2.0->deepface) (3.0.0)\n",
      "Requirement already satisfied: pygments<3.0.0,>=2.13.0 in c:\\users\\hcps-karimam\\appdata\\roaming\\python\\python39\\site-packages (from rich->keras>=2.2.0->deepface) (2.18.0)\n",
      "Requirement already satisfied: wheel<1.0,>=0.23.0 in c:\\users\\hcps-karimam\\appdata\\roaming\\python\\python39\\site-packages (from astunparse>=1.6.0->tensorflow-intel==2.18.0->tensorflow>=1.9.0->deepface) (0.45.1)\n",
      "Requirement already satisfied: mdurl~=0.1 in c:\\users\\hcps-karimam\\appdata\\roaming\\python\\python39\\site-packages (from markdown-it-py>=2.2.0->rich->keras>=2.2.0->deepface) (0.1.2)\n",
      "Requirement already satisfied: markdown>=2.6.8 in c:\\users\\hcps-karimam\\appdata\\roaming\\python\\python39\\site-packages (from tensorboard<2.19,>=2.18->tensorflow-intel==2.18.0->tensorflow>=1.9.0->deepface) (3.7)\n",
      "Requirement already satisfied: tensorboard-data-server<0.8.0,>=0.7.0 in c:\\users\\hcps-karimam\\appdata\\roaming\\python\\python39\\site-packages (from tensorboard<2.19,>=2.18->tensorflow-intel==2.18.0->tensorflow>=1.9.0->deepface) (0.7.2)\n"
     ]
    }
   ],
   "source": [
    "pip install deepface"
   ]
  },
  {
   "cell_type": "code",
   "execution_count": 5,
   "metadata": {},
   "outputs": [],
   "source": [
    "from deepface import DeepFace"
   ]
  },
  {
   "cell_type": "code",
   "execution_count": 6,
   "metadata": {},
   "outputs": [
    {
     "name": "stdout",
     "output_type": "stream",
     "text": [
      "24-12-18 14:51:37 - 🔗 vgg_face_weights.h5 will be downloaded from https://github.com/serengil/deepface_models/releases/download/v1.0/vgg_face_weights.h5 to C:\\Users\\hcps-karimam\\.deepface\\weights\\vgg_face_weights.h5...\n"
     ]
    },
    {
     "name": "stderr",
     "output_type": "stream",
     "text": [
      "Downloading...\n",
      "From: https://github.com/serengil/deepface_models/releases/download/v1.0/vgg_face_weights.h5\n",
      "To: C:\\Users\\hcps-karimam\\.deepface\\weights\\vgg_face_weights.h5\n",
      "100%|██████████| 580M/580M [00:19<00:00, 29.9MB/s] \n"
     ]
    }
   ],
   "source": [
    "result = DeepFace.verify(img1_path = \"img1.jpg\", img2_path= \"img2.jpg\")"
   ]
  },
  {
   "cell_type": "code",
   "execution_count": 11,
   "metadata": {},
   "outputs": [
    {
     "ename": "SyntaxError",
     "evalue": "(unicode error) 'unicodeescape' codec can't decode bytes in position 2-3: truncated \\UXXXXXXXX escape (3416763780.py, line 1)",
     "output_type": "error",
     "traceback": [
      "\u001b[1;36m  Cell \u001b[1;32mIn[11], line 1\u001b[1;36m\u001b[0m\n\u001b[1;33m    dfs = DeepFace.find(img_path = \"img1.jpg\", db_path = \"C:\\Users\\hcps-karimam\\OneDrive - Henrico County Public Schools\\Documents\\12th Grade\\1. Capstone\\MP2\")\u001b[0m\n\u001b[1;37m                                                                                                                                                              ^\u001b[0m\n\u001b[1;31mSyntaxError\u001b[0m\u001b[1;31m:\u001b[0m (unicode error) 'unicodeescape' codec can't decode bytes in position 2-3: truncated \\UXXXXXXXX escape\n"
     ]
    }
   ],
   "source": [
    "dfs = DeepFace.find(img_path = \"img1.jpg\", db_path = \"C:\\Users\\hcps-karimam\\OneDrive - Henrico County Public Schools\\Documents\\12th Grade\\1. Capstone\\MP2\")"
   ]
  }
 ],
 "metadata": {
  "kernelspec": {
   "display_name": "Python 3",
   "language": "python",
   "name": "python3"
  },
  "language_info": {
   "codemirror_mode": {
    "name": "ipython",
    "version": 3
   },
   "file_extension": ".py",
   "mimetype": "text/x-python",
   "name": "python",
   "nbconvert_exporter": "python",
   "pygments_lexer": "ipython3",
   "version": "3.9.6"
  }
 },
 "nbformat": 4,
 "nbformat_minor": 2
}
