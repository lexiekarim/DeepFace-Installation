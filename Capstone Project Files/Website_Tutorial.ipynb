{
 "cells": [
  {
   "cell_type": "code",
   "execution_count": 3,
   "metadata": {},
   "outputs": [
    {
     "name": "stdout",
     "output_type": "stream",
     "text": [
      "Defaulting to user installation because normal site-packages is not writeable\n",
      "Requirement already satisfied: deepface in c:\\users\\hcps-karimam\\appdata\\roaming\\python\\python39\\site-packages (0.0.93)\n",
      "Requirement already satisfied: requests>=2.27.1 in c:\\users\\hcps-karimam\\appdata\\roaming\\python\\python39\\site-packages (from deepface) (2.32.3)\n",
      "Requirement already satisfied: numpy>=1.14.0 in c:\\users\\hcps-karimam\\appdata\\roaming\\python\\python39\\site-packages (from deepface) (2.0.2)\n",
      "Requirement already satisfied: pandas>=0.23.4 in c:\\users\\hcps-karimam\\appdata\\roaming\\python\\python39\\site-packages (from deepface) (2.2.3)\n",
      "Requirement already satisfied: gdown>=3.10.1 in c:\\users\\hcps-karimam\\appdata\\roaming\\python\\python39\\site-packages (from deepface) (5.2.0)\n",
      "Requirement already satisfied: tqdm>=4.30.0 in c:\\users\\hcps-karimam\\appdata\\roaming\\python\\python39\\site-packages (from deepface) (4.67.1)\n",
      "Requirement already satisfied: Pillow>=5.2.0 in c:\\users\\hcps-karimam\\appdata\\roaming\\python\\python39\\site-packages (from deepface) (11.0.0)\n",
      "Requirement already satisfied: opencv-python>=4.5.5.64 in c:\\users\\hcps-karimam\\appdata\\roaming\\python\\python39\\site-packages (from deepface) (4.10.0.84)\n",
      "Requirement already satisfied: tensorflow>=1.9.0 in c:\\users\\hcps-karimam\\appdata\\roaming\\python\\python39\\site-packages (from deepface) (2.18.0)\n",
      "Requirement already satisfied: keras>=2.2.0 in c:\\users\\hcps-karimam\\appdata\\roaming\\python\\python39\\site-packages (from deepface) (3.7.0)\n",
      "Requirement already satisfied: Flask>=1.1.2 in c:\\users\\hcps-karimam\\appdata\\roaming\\python\\python39\\site-packages (from deepface) (3.1.0)\n",
      "Requirement already satisfied: flask-cors>=4.0.1 in c:\\users\\hcps-karimam\\appdata\\roaming\\python\\python39\\site-packages (from deepface) (5.0.0)\n",
      "Requirement already satisfied: mtcnn>=0.1.0 in c:\\users\\hcps-karimam\\appdata\\roaming\\python\\python39\\site-packages (from deepface) (0.1.1)\n",
      "Requirement already satisfied: retina-face>=0.0.1 in c:\\users\\hcps-karimam\\appdata\\roaming\\python\\python39\\site-packages (from deepface) (0.0.17)\n",
      "Requirement already satisfied: fire>=0.4.0 in c:\\users\\hcps-karimam\\appdata\\roaming\\python\\python39\\site-packages (from deepface) (0.7.0)\n",
      "Requirement already satisfied: gunicorn>=20.1.0 in c:\\users\\hcps-karimam\\appdata\\roaming\\python\\python39\\site-packages (from deepface) (23.0.0)\n",
      "Requirement already satisfied: termcolor in c:\\users\\hcps-karimam\\appdata\\roaming\\python\\python39\\site-packages (from fire>=0.4.0->deepface) (2.5.0)\n",
      "Requirement already satisfied: Werkzeug>=3.1 in c:\\users\\hcps-karimam\\appdata\\roaming\\python\\python39\\site-packages (from Flask>=1.1.2->deepface) (3.1.3)\n",
      "Requirement already satisfied: Jinja2>=3.1.2 in c:\\users\\hcps-karimam\\appdata\\roaming\\python\\python39\\site-packages (from Flask>=1.1.2->deepface) (3.1.4)\n",
      "Requirement already satisfied: itsdangerous>=2.2 in c:\\users\\hcps-karimam\\appdata\\roaming\\python\\python39\\site-packages (from Flask>=1.1.2->deepface) (2.2.0)\n",
      "Requirement already satisfied: click>=8.1.3 in c:\\users\\hcps-karimam\\appdata\\roaming\\python\\python39\\site-packages (from Flask>=1.1.2->deepface) (8.1.7)\n",
      "Requirement already satisfied: blinker>=1.9 in c:\\users\\hcps-karimam\\appdata\\roaming\\python\\python39\\site-packages (from Flask>=1.1.2->deepface) (1.9.0)\n",
      "Requirement already satisfied: importlib-metadata>=3.6 in c:\\users\\hcps-karimam\\appdata\\roaming\\python\\python39\\site-packages (from Flask>=1.1.2->deepface) (8.5.0)\n",
      "Requirement already satisfied: beautifulsoup4 in c:\\users\\hcps-karimam\\appdata\\roaming\\python\\python39\\site-packages (from gdown>=3.10.1->deepface) (4.12.3)\n",
      "Requirement already satisfied: filelock in c:\\users\\hcps-karimam\\appdata\\roaming\\python\\python39\\site-packages (from gdown>=3.10.1->deepface) (3.16.1)\n",
      "Requirement already satisfied: packaging in c:\\users\\hcps-karimam\\appdata\\roaming\\python\\python39\\site-packages (from gunicorn>=20.1.0->deepface) (24.1)\n",
      "Requirement already satisfied: absl-py in c:\\users\\hcps-karimam\\appdata\\roaming\\python\\python39\\site-packages (from keras>=2.2.0->deepface) (2.1.0)\n",
      "Requirement already satisfied: rich in c:\\users\\hcps-karimam\\appdata\\roaming\\python\\python39\\site-packages (from keras>=2.2.0->deepface) (13.9.4)\n",
      "Requirement already satisfied: namex in c:\\users\\hcps-karimam\\appdata\\roaming\\python\\python39\\site-packages (from keras>=2.2.0->deepface) (0.0.8)\n",
      "Requirement already satisfied: h5py in c:\\users\\hcps-karimam\\appdata\\roaming\\python\\python39\\site-packages (from keras>=2.2.0->deepface) (3.12.1)\n",
      "Requirement already satisfied: optree in c:\\users\\hcps-karimam\\appdata\\roaming\\python\\python39\\site-packages (from keras>=2.2.0->deepface) (0.13.1)\n",
      "Requirement already satisfied: ml-dtypes in c:\\users\\hcps-karimam\\appdata\\roaming\\python\\python39\\site-packages (from keras>=2.2.0->deepface) (0.4.1)\n",
      "Requirement already satisfied: python-dateutil>=2.8.2 in c:\\users\\hcps-karimam\\appdata\\roaming\\python\\python39\\site-packages (from pandas>=0.23.4->deepface) (2.9.0.post0)\n",
      "Requirement already satisfied: pytz>=2020.1 in c:\\users\\hcps-karimam\\appdata\\roaming\\python\\python39\\site-packages (from pandas>=0.23.4->deepface) (2024.2)\n",
      "Requirement already satisfied: tzdata>=2022.7 in c:\\users\\hcps-karimam\\appdata\\roaming\\python\\python39\\site-packages (from pandas>=0.23.4->deepface) (2024.1)\n",
      "Requirement already satisfied: charset-normalizer<4,>=2 in c:\\users\\hcps-karimam\\appdata\\roaming\\python\\python39\\site-packages (from requests>=2.27.1->deepface) (3.4.0)\n",
      "Requirement already satisfied: idna<4,>=2.5 in c:\\users\\hcps-karimam\\appdata\\roaming\\python\\python39\\site-packages (from requests>=2.27.1->deepface) (3.10)\n",
      "Requirement already satisfied: urllib3<3,>=1.21.1 in c:\\users\\hcps-karimam\\appdata\\roaming\\python\\python39\\site-packages (from requests>=2.27.1->deepface) (2.2.3)\n",
      "Requirement already satisfied: certifi>=2017.4.17 in c:\\users\\hcps-karimam\\appdata\\roaming\\python\\python39\\site-packages (from requests>=2.27.1->deepface) (2024.8.30)\n",
      "Requirement already satisfied: tensorflow-intel==2.18.0 in c:\\users\\hcps-karimam\\appdata\\roaming\\python\\python39\\site-packages (from tensorflow>=1.9.0->deepface) (2.18.0)\n",
      "Requirement already satisfied: astunparse>=1.6.0 in c:\\users\\hcps-karimam\\appdata\\roaming\\python\\python39\\site-packages (from tensorflow-intel==2.18.0->tensorflow>=1.9.0->deepface) (1.6.3)\n",
      "Requirement already satisfied: flatbuffers>=24.3.25 in c:\\users\\hcps-karimam\\appdata\\roaming\\python\\python39\\site-packages (from tensorflow-intel==2.18.0->tensorflow>=1.9.0->deepface) (24.3.25)\n",
      "Requirement already satisfied: gast!=0.5.0,!=0.5.1,!=0.5.2,>=0.2.1 in c:\\users\\hcps-karimam\\appdata\\roaming\\python\\python39\\site-packages (from tensorflow-intel==2.18.0->tensorflow>=1.9.0->deepface) (0.6.0)\n",
      "Requirement already satisfied: google-pasta>=0.1.1 in c:\\users\\hcps-karimam\\appdata\\roaming\\python\\python39\\site-packages (from tensorflow-intel==2.18.0->tensorflow>=1.9.0->deepface) (0.2.0)\n",
      "Requirement already satisfied: libclang>=13.0.0 in c:\\users\\hcps-karimam\\appdata\\roaming\\python\\python39\\site-packages (from tensorflow-intel==2.18.0->tensorflow>=1.9.0->deepface) (18.1.1)\n",
      "Requirement already satisfied: opt-einsum>=2.3.2 in c:\\users\\hcps-karimam\\appdata\\roaming\\python\\python39\\site-packages (from tensorflow-intel==2.18.0->tensorflow>=1.9.0->deepface) (3.4.0)\n",
      "Requirement already satisfied: protobuf!=4.21.0,!=4.21.1,!=4.21.2,!=4.21.3,!=4.21.4,!=4.21.5,<6.0.0dev,>=3.20.3 in c:\\users\\hcps-karimam\\appdata\\roaming\\python\\python39\\site-packages (from tensorflow-intel==2.18.0->tensorflow>=1.9.0->deepface) (5.29.1)\n",
      "Requirement already satisfied: setuptools in c:\\program files\\python39\\lib\\site-packages (from tensorflow-intel==2.18.0->tensorflow>=1.9.0->deepface) (56.0.0)\n",
      "Requirement already satisfied: six>=1.12.0 in c:\\users\\hcps-karimam\\appdata\\roaming\\python\\python39\\site-packages (from tensorflow-intel==2.18.0->tensorflow>=1.9.0->deepface) (1.16.0)\n",
      "Requirement already satisfied: typing-extensions>=3.6.6 in c:\\users\\hcps-karimam\\appdata\\roaming\\python\\python39\\site-packages (from tensorflow-intel==2.18.0->tensorflow>=1.9.0->deepface) (4.12.2)\n",
      "Requirement already satisfied: wrapt>=1.11.0 in c:\\users\\hcps-karimam\\appdata\\roaming\\python\\python39\\site-packages (from tensorflow-intel==2.18.0->tensorflow>=1.9.0->deepface) (1.17.0)\n",
      "Requirement already satisfied: grpcio<2.0,>=1.24.3 in c:\\users\\hcps-karimam\\appdata\\roaming\\python\\python39\\site-packages (from tensorflow-intel==2.18.0->tensorflow>=1.9.0->deepface) (1.68.1)\n",
      "Requirement already satisfied: tensorboard<2.19,>=2.18 in c:\\users\\hcps-karimam\\appdata\\roaming\\python\\python39\\site-packages (from tensorflow-intel==2.18.0->tensorflow>=1.9.0->deepface) (2.18.0)\n",
      "Requirement already satisfied: tensorflow-io-gcs-filesystem>=0.23.1 in c:\\users\\hcps-karimam\\appdata\\roaming\\python\\python39\\site-packages (from tensorflow-intel==2.18.0->tensorflow>=1.9.0->deepface) (0.31.0)\n",
      "Requirement already satisfied: colorama in c:\\users\\hcps-karimam\\appdata\\roaming\\python\\python39\\site-packages (from tqdm>=4.30.0->deepface) (0.4.6)\n",
      "Requirement already satisfied: zipp>=3.20 in c:\\users\\hcps-karimam\\appdata\\roaming\\python\\python39\\site-packages (from importlib-metadata>=3.6->Flask>=1.1.2->deepface) (3.20.2)\n",
      "Requirement already satisfied: MarkupSafe>=2.0 in c:\\users\\hcps-karimam\\appdata\\roaming\\python\\python39\\site-packages (from Jinja2>=3.1.2->Flask>=1.1.2->deepface) (3.0.2)\n",
      "Requirement already satisfied: soupsieve>1.2 in c:\\users\\hcps-karimam\\appdata\\roaming\\python\\python39\\site-packages (from beautifulsoup4->gdown>=3.10.1->deepface) (2.6)\n",
      "Requirement already satisfied: PySocks!=1.5.7,>=1.5.6 in c:\\users\\hcps-karimam\\appdata\\roaming\\python\\python39\\site-packages (from requests[socks]->gdown>=3.10.1->deepface) (1.7.1)\n",
      "Requirement already satisfied: markdown-it-py>=2.2.0 in c:\\users\\hcps-karimam\\appdata\\roaming\\python\\python39\\site-packages (from rich->keras>=2.2.0->deepface) (3.0.0)\n",
      "Requirement already satisfied: pygments<3.0.0,>=2.13.0 in c:\\users\\hcps-karimam\\appdata\\roaming\\python\\python39\\site-packages (from rich->keras>=2.2.0->deepface) (2.18.0)\n",
      "Requirement already satisfied: wheel<1.0,>=0.23.0 in c:\\users\\hcps-karimam\\appdata\\roaming\\python\\python39\\site-packages (from astunparse>=1.6.0->tensorflow-intel==2.18.0->tensorflow>=1.9.0->deepface) (0.45.1)\n",
      "Requirement already satisfied: mdurl~=0.1 in c:\\users\\hcps-karimam\\appdata\\roaming\\python\\python39\\site-packages (from markdown-it-py>=2.2.0->rich->keras>=2.2.0->deepface) (0.1.2)\n",
      "Requirement already satisfied: markdown>=2.6.8 in c:\\users\\hcps-karimam\\appdata\\roaming\\python\\python39\\site-packages (from tensorboard<2.19,>=2.18->tensorflow-intel==2.18.0->tensorflow>=1.9.0->deepface) (3.7)\n",
      "Requirement already satisfied: tensorboard-data-server<0.8.0,>=0.7.0 in c:\\users\\hcps-karimam\\appdata\\roaming\\python\\python39\\site-packages (from tensorboard<2.19,>=2.18->tensorflow-intel==2.18.0->tensorflow>=1.9.0->deepface) (0.7.2)\n",
      "Note: you may need to restart the kernel to use updated packages.\n"
     ]
    },
    {
     "name": "stderr",
     "output_type": "stream",
     "text": [
      "\n",
      "[notice] A new release of pip is available: 24.3.1 -> 25.0.1\n",
      "[notice] To update, run: python.exe -m pip install --upgrade pip\n"
     ]
    }
   ],
   "source": [
    "pip install deepface"
   ]
  },
  {
   "cell_type": "code",
   "execution_count": 4,
   "metadata": {},
   "outputs": [
    {
     "name": "stdout",
     "output_type": "stream",
     "text": [
      "WARNING:tensorflow:From C:\\Users\\hcps-karimam\\AppData\\Roaming\\Python\\Python39\\site-packages\\tf_keras\\src\\losses.py:2976: The name tf.losses.sparse_softmax_cross_entropy is deprecated. Please use tf.compat.v1.losses.sparse_softmax_cross_entropy instead.\n",
      "\n"
     ]
    }
   ],
   "source": [
    "from deepface import DeepFace"
   ]
  },
  {
   "cell_type": "code",
   "execution_count": 5,
   "metadata": {},
   "outputs": [],
   "source": [
    "result = DeepFace.verify(img1_path = \"img1.jpg\", img2_path= \"img2.jpg\")"
   ]
  },
  {
   "cell_type": "code",
   "execution_count": 6,
   "metadata": {},
   "outputs": [
    {
     "name": "stdout",
     "output_type": "stream",
     "text": [
      "25-02-27 15:00:18 - Searching img1.jpg in 9 length datastore\n",
      "25-02-27 15:00:19 - find function duration 0.6714856624603271 seconds\n"
     ]
    }
   ],
   "source": [
    "dfs = DeepFace.find(img_path = \"img1.jpg\", db_path= \"Database\")"
   ]
  },
  {
   "cell_type": "code",
   "execution_count": 7,
   "metadata": {},
   "outputs": [],
   "source": [
    "embedding_objs = DeepFace.represent(img_path = \"img1.jpg\")"
   ]
  },
  {
   "cell_type": "code",
   "execution_count": 14,
   "metadata": {},
   "outputs": [],
   "source": [
    "for embedding_obj in embedding_objs:\n",
    "  embedding = embedding_obj[\"embedding\"]\n",
    "  assert isinstance(embedding, list)\n",
    "  assert (models_name == \"VGG-Face\" and len(embedding) == 4096)"
   ]
  },
  {
   "cell_type": "code",
   "execution_count": 19,
   "metadata": {},
   "outputs": [
    {
     "name": "stdout",
     "output_type": "stream",
     "text": [
      "25-02-27 15:12:29 - Searching img1.jpg in 9 length datastore\n",
      "25-02-27 15:12:29 - find function duration 0.6614210605621338 seconds\n"
     ]
    }
   ],
   "source": [
    "models = [\n",
    "  \"VGG-Face\", \n",
    "  \"Facenet\", \n",
    "  \"Facenet512\", \n",
    "  \"OpenFace\", \n",
    "  \"DeepFace\", \n",
    "  \"DeepID\", \n",
    "  \"ArcFace\", \n",
    "  \"Dlib\", \n",
    "  \"SFace\",\n",
    "  \"GhostFaceNet\",\n",
    "]\n",
    "\n",
    "#face verification\n",
    "result = DeepFace.verify(\n",
    "  img1_path = \"img1.jpg\",\n",
    "  img2_path = \"img2.jpg\",\n",
    "  model_name = models[0],\n",
    ")\n",
    "\n",
    "#face recognition\n",
    "dfs = DeepFace.find(\n",
    "  img_path = \"img1.jpg\",\n",
    "  db_path = \"Database\", \n",
    "  model_name = models[1],\n",
    ")\n",
    "\n",
    "#embeddings\n",
    "embedding_objs = DeepFace.represent(\n",
    "  img_path = \"img1.jpg\",\n",
    "  model_name = models[2],\n",
    ")"
   ]
  },
  {
   "cell_type": "code",
   "execution_count": 20,
   "metadata": {},
   "outputs": [
    {
     "name": "stdout",
     "output_type": "stream",
     "text": [
      "25-02-27 15:12:55 - Searching img1.jpg in 9 length datastore\n",
      "25-02-27 15:12:55 - find function duration 0.301344633102417 seconds\n"
     ]
    }
   ],
   "source": [
    "metrics = [\"cosine\", \"euclidean\", \"euclidean_l2\"]\n",
    "\n",
    "#face verification\n",
    "result = DeepFace.verify(\n",
    "  img1_path = \"img1.jpg\", \n",
    "  img2_path = \"img2.jpg\", \n",
    "  distance_metric = metrics[1],\n",
    ")\n",
    "\n",
    "#face recognition\n",
    "dfs = DeepFace.find(\n",
    "  img_path = \"img1.jpg\", \n",
    "  db_path = \"Database\", \n",
    "  distance_metric = metrics[2],\n",
    ")"
   ]
  },
  {
   "cell_type": "code",
   "execution_count": 22,
   "metadata": {},
   "outputs": [
    {
     "name": "stderr",
     "output_type": "stream",
     "text": [
      "Action: age:   0%|          | 0/4 [00:00<?, ?it/s]    "
     ]
    },
    {
     "name": "stdout",
     "output_type": "stream",
     "text": [
      "25-02-27 15:13:28 - age_model_weights.h5 will be downloaded...\n"
     ]
    },
    {
     "name": "stderr",
     "output_type": "stream",
     "text": [
      "Downloading...\n",
      "From: https://github.com/serengil/deepface_models/releases/download/v1.0/age_model_weights.h5\n",
      "To: C:\\Users\\hcps-karimam\\.deepface\\weights\\age_model_weights.h5\n",
      "100%|██████████| 539M/539M [00:21<00:00, 25.3MB/s]\n",
      "Action: gender:  25%|██▌       | 1/4 [00:23<01:11, 23.92s/it]"
     ]
    },
    {
     "name": "stdout",
     "output_type": "stream",
     "text": [
      "25-02-27 15:13:51 - gender_model_weights.h5 will be downloaded...\n"
     ]
    },
    {
     "name": "stderr",
     "output_type": "stream",
     "text": [
      "Downloading...\n",
      "From: https://github.com/serengil/deepface_models/releases/download/v1.0/gender_model_weights.h5\n",
      "To: C:\\Users\\hcps-karimam\\.deepface\\weights\\gender_model_weights.h5\n",
      "100%|██████████| 537M/537M [00:17<00:00, 29.8MB/s]\n",
      "Action: race:  50%|█████     | 2/4 [00:43<00:43, 21.63s/it]  "
     ]
    },
    {
     "name": "stdout",
     "output_type": "stream",
     "text": [
      "25-02-27 15:14:11 - race_model_single_batch.h5 will be downloaded...\n"
     ]
    },
    {
     "name": "stderr",
     "output_type": "stream",
     "text": [
      "Downloading...\n",
      "From: https://github.com/serengil/deepface_models/releases/download/v1.0/race_model_single_batch.h5\n",
      "To: C:\\Users\\hcps-karimam\\.deepface\\weights\\race_model_single_batch.h5\n",
      "100%|██████████| 537M/537M [00:17<00:00, 29.9MB/s]\n",
      "Action: emotion:  75%|███████▌  | 3/4 [01:05<00:21, 21.77s/it]"
     ]
    },
    {
     "name": "stdout",
     "output_type": "stream",
     "text": [
      "25-02-27 15:14:33 - facial_expression_model_weights.h5 will be downloaded...\n"
     ]
    },
    {
     "name": "stderr",
     "output_type": "stream",
     "text": [
      "Downloading...\n",
      "From: https://github.com/serengil/deepface_models/releases/download/v1.0/facial_expression_model_weights.h5\n",
      "To: C:\\Users\\hcps-karimam\\.deepface\\weights\\facial_expression_model_weights.h5\n",
      "100%|██████████| 5.98M/5.98M [00:00<00:00, 25.5MB/s]\n",
      "Action: emotion: 100%|██████████| 4/4 [01:06<00:00, 16.65s/it]\n"
     ]
    }
   ],
   "source": [
    "objs = DeepFace.analyze(\n",
    "  img_path = \"img1.jpg\", \n",
    "  actions = ['age', 'gender', 'race', 'emotion'],\n",
    ")"
   ]
  },
  {
   "cell_type": "code",
   "execution_count": 31,
   "metadata": {},
   "outputs": [
    {
     "name": "stdout",
     "output_type": "stream",
     "text": [
      "25-02-27 15:30:15 - Searching img1.jpg in 8 length datastore\n",
      "25-02-27 15:30:16 - find function duration 0.3664846420288086 seconds\n",
      "1/1 [==============================] - 0s 50ms/step\n",
      "1/1 [==============================] - 0s 53ms/step\n",
      "1/1 [==============================] - 0s 32ms/step\n",
      "1/1 [==============================] - 0s 33ms/step\n",
      "1/1 [==============================] - 0s 22ms/step\n",
      "1/1 [==============================] - 0s 16ms/step\n",
      "1/1 [==============================] - 0s 29ms/step\n",
      "1/1 [==============================] - 0s 26ms/step\n",
      "1/1 [==============================] - 0s 30ms/step\n",
      "2/2 [==============================] - 0s 4ms/step\n",
      "1/1 [==============================] - 0s 31ms/step\n"
     ]
    },
    {
     "name": "stderr",
     "output_type": "stream",
     "text": [
      "Action: race: 100%|██████████| 4/4 [00:00<00:00,  6.10it/s]  \n"
     ]
    },
    {
     "name": "stdout",
     "output_type": "stream",
     "text": [
      "25-02-27 15:30:19 - face_detection_yunet_2023mar.onnx will be downloaded...\n"
     ]
    },
    {
     "name": "stderr",
     "output_type": "stream",
     "text": [
      "Downloading...\n",
      "From: https://github.com/opencv/opencv_zoo/raw/main/models/face_detection_yunet/face_detection_yunet_2023mar.onnx\n",
      "To: C:\\Users\\hcps-karimam\\.deepface\\weights\\face_detection_yunet_2023mar.onnx\n",
      "100%|██████████| 233k/233k [00:00<00:00, 3.64MB/s]\n"
     ]
    }
   ],
   "source": [
    "backends = [\n",
    "  'opencv', \n",
    "  'ssd', \n",
    "  #'dlib', \n",
    "  'mtcnn', \n",
    "  #'fastmtcnn',\n",
    "  'retinaface', \n",
    "  #'mediapipe',\n",
    "  #'yolov8',\n",
    "  'yunet',\n",
    "  'centerface',\n",
    "]\n",
    "\n",
    "alignment_modes = [True, False]\n",
    "\n",
    "#face verification\n",
    "obj = DeepFace.verify(\n",
    "  img1_path = \"img1.jpg\", \n",
    "  img2_path = \"img2.jpg\", \n",
    "  detector_backend = backends[0],\n",
    "  align = alignment_modes[0],\n",
    ")\n",
    "\n",
    "#face recognition\n",
    "dfs = DeepFace.find(\n",
    "  img_path = \"img1.jpg\", \n",
    "  db_path = \"Database\", \n",
    "  detector_backend = backends[1],\n",
    "  align = alignment_modes[0],\n",
    ")\n",
    "\n",
    "#embeddings\n",
    "embedding_objs = DeepFace.represent(\n",
    "  img_path = \"img1.jpg\", \n",
    "  detector_backend = backends[2],\n",
    "  align = alignment_modes[0],\n",
    ")\n",
    "\n",
    "#facial analysis\n",
    "demographies = DeepFace.analyze(\n",
    "  img_path = \"img5.jpg\", \n",
    "  detector_backend = backends[3],\n",
    "  align = alignment_modes[0],\n",
    ")\n",
    "\n",
    "#face detection and alignment\n",
    "face_objs = DeepFace.extract_faces(\n",
    "  img_path = \"img1.jpg\", \n",
    "  detector_backend = backends[4],\n",
    "  align = alignment_modes[0],\n",
    ")"
   ]
  },
  {
   "cell_type": "code",
   "execution_count": 33,
   "metadata": {},
   "outputs": [
    {
     "name": "stdout",
     "output_type": "stream",
     "text": [
      "25-02-27 15:34:13 - Age model is just built\n",
      "25-02-27 15:34:13 - Gender model is just built\n",
      "25-02-27 15:34:13 - Emotion model is just built\n",
      "25-02-27 15:34:13 - VGG-Face is built\n"
     ]
    }
   ],
   "source": [
    "DeepFace.stream(db_path = \"Database\")"
   ]
  }
 ],
 "metadata": {
  "kernelspec": {
   "display_name": "Python 3",
   "language": "python",
   "name": "python3"
  },
  "language_info": {
   "codemirror_mode": {
    "name": "ipython",
    "version": 3
   },
   "file_extension": ".py",
   "mimetype": "text/x-python",
   "name": "python",
   "nbconvert_exporter": "python",
   "pygments_lexer": "ipython3",
   "version": "3.9.6"
  }
 },
 "nbformat": 4,
 "nbformat_minor": 2
}
